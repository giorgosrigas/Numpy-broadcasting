{
 "cells": [
  {
   "cell_type": "code",
   "execution_count": 4,
   "metadata": {},
   "outputs": [],
   "source": [
    "import numpy as np\n",
    "from numpy import tile\n",
    "def broadcast(fun, a, b):\n",
    "    \"\"\"\n",
    "    broadcast function takes two input arrays and performs element-wise\n",
    "    mathematical operations. If the arrays have different sizes, including\n",
    "    different dimensions, the function matches them and the output array has \n",
    "    the maximum shape.\n",
    "    \n",
    "    :param fun: the mathematical operation that needs to be executed\n",
    "    :param a: first input array\n",
    "    :param b: second input array\n",
    "    \n",
    "    :return: returns an output array which is the product of the executed\n",
    "    mathematical function between array a and b.\n",
    "    \"\"\"\n",
    "    \n",
    "# determining the number of dimensions of the higher dimensional array\n",
    "# which will be the number of dimensions of the resulted array.\n",
    "    dimensions = max(a.ndim, b.ndim) \n",
    "    mask = np.full((2,dimensions), 1, dtype = int)  \n",
    "    mask[0][-a.ndim:] =  np.shape(a)\n",
    "    mask[1][-b.ndim:]  =  np.shape(b)\n",
    "\n",
    "# finding the right size of the resulted array by determining\n",
    "# the maximum value of each collumn from the two arrays.\n",
    "    desired_shape = np.max(mask, axis = 0) \n",
    "\n",
    "# extending each array individually to the desired shape \n",
    "    try:\n",
    "        array1 = tile(a, desired_shape // mask[0])\n",
    "        array2 = tile(b, desired_shape // mask[1]) \n",
    "        return fun(array1,array2)\n",
    "    \n",
    "# render brodcasting unavailable if any of the remainders is non zero -any of the\n",
    "# dimensions is not multiple of the other-.\n",
    "    except:    \n",
    "        if (desired_shape % mask).any():\n",
    "            print('Cannot Broadcast')\n",
    "    \n",
    "    "
   ]
  }
 ],
 "metadata": {
  "kernelspec": {
   "display_name": "Python 3",
   "language": "python",
   "name": "python3"
  },
  "language_info": {
   "codemirror_mode": {
    "name": "ipython",
    "version": 3
   },
   "file_extension": ".py",
   "mimetype": "text/x-python",
   "name": "python",
   "nbconvert_exporter": "python",
   "pygments_lexer": "ipython3",
   "version": "3.7.6"
  }
 },
 "nbformat": 4,
 "nbformat_minor": 2
}
